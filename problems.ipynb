{
 "cells": [
  {
   "cell_type": "code",
   "execution_count": 1,
   "metadata": {},
   "outputs": [],
   "source": [
    "import numpy as np"
   ]
  },
  {
   "cell_type": "code",
   "execution_count": 5,
   "metadata": {},
   "outputs": [
    {
     "name": "stdout",
     "output_type": "stream",
     "text": [
      "[17 39]\n"
     ]
    }
   ],
   "source": [
    "\"\"\"\n",
    "Write a Python function that computes the dot product of a matrix and a vector. The function should return a list representing the resulting vector if the operation is valid, or -1 if the matrix and vector dimensions are incompatible. A matrix (a list of lists) can be dotted with a vector (a list) only if the number of columns in the matrix equals the length of the vector. For example, an n x m matrix requires a vector of length m.\n",
    "\"\"\"\n",
    "\n",
    "def matrix_dot_vector(a: list[list[int|float]], b: list[int|float]) -> list[int|float]:\n",
    "\t# Return a list where each element is the dot product of a row of 'a' with 'b'.\n",
    "\t# If the number of columns in 'a' does not match the length of 'b', return -1.\n",
    "    arr1 = np.array(a)\n",
    "    arr2 = np.array(b)\n",
    "\n",
    "    if arr1.shape[1] != arr2.shape[0]:\n",
    "        return -1\n",
    "    \n",
    "    else: \n",
    "        return np.dot(arr1, arr2)\n",
    "\n",
    "\n",
    "print(matrix_dot_vector([[1, 2], [3, 4]], [5, 6]))"
   ]
  },
  {
   "cell_type": "code",
   "execution_count": 7,
   "metadata": {},
   "outputs": [
    {
     "name": "stdout",
     "output_type": "stream",
     "text": [
      "[[1 4]\n",
      " [2 5]\n",
      " [3 6]]\n"
     ]
    }
   ],
   "source": [
    "\"\"\"\n",
    "Write a Python function that transposes a matrix. The function should return a new matrix that is the transpose of the input matrix. For example, if the input matrix is:\n",
    "\n",
    "[\n",
    "[1, 2, 3],\n",
    "[4, 5, 6]\n",
    "]\n",
    "\n",
    "The function should return:\n",
    "\n",
    "[\n",
    "[1, 4],\n",
    "[2, 5],\n",
    "[3, 6]\n",
    "\"\"\"\n",
    "\n",
    "def transpose_matrix(a: list[list[int|float]]):\n",
    "\n",
    "    arr = np.array(a)\n",
    "    return np.transpose(arr)\n",
    "\n",
    "print(transpose_matrix([[1, 2, 3], [4, 5, 6]]))"
   ]
  },
  {
   "cell_type": "code",
   "execution_count": 10,
   "metadata": {},
   "outputs": [
    {
     "name": "stdout",
     "output_type": "stream",
     "text": [
      "[[1 2 3]\n",
      " [4 5 6]]\n"
     ]
    }
   ],
   "source": [
    "\"\"\"\n",
    "Write a Python function that reshapes a given matrix into a specified shape. if it cant be reshaped return back an empty list [ ]\n",
    "\"\"\"\n",
    "def reshape_matrix(a: list[list[int|float]], new_shape: tuple[int, int]):\n",
    "\n",
    "    arr = np.array(a)\n",
    "\n",
    "    try:\n",
    "        return np.reshape(arr, new_shape)\n",
    "    except:\n",
    "        return []\n",
    "    \n",
    "\n",
    "print(reshape_matrix([[1, 2, 3], [4, 5, 6]], (2, 3)))"
   ]
  },
  {
   "cell_type": "code",
   "execution_count": 18,
   "metadata": {},
   "outputs": [
    {
     "name": "stdout",
     "output_type": "stream",
     "text": [
      "[2. 5. 8.]\n"
     ]
    }
   ],
   "source": [
    "\"\"\"\n",
    "Write a Python function that calculates the mean of a matrix either by row or by column, based on a given mode. The function should take a matrix (list of lists) and a mode ('row' or 'column') as input and return a list of means according to the specified mode.\n",
    "\"\"\"\n",
    "\n",
    "def calculate_matrix_mean(matrix: list[list[float]], mode: str):\n",
    "\n",
    "    arr = np.array(matrix)\n",
    "\n",
    "    if mode == \"row\":\n",
    "        means = np.mean(arr, axis = 1)\n",
    "    \n",
    "    elif mode == \"column\":\n",
    "        means = np.mean(arr, axis = 0)\n",
    "    \n",
    "    return means\n",
    "\n",
    "print(calculate_matrix_mean([[1, 2, 3], [4, 5, 6], [7, 8, 9]], \"row\"))"
   ]
  },
  {
   "cell_type": "code",
   "execution_count": 22,
   "metadata": {},
   "outputs": [
    {
     "name": "stdout",
     "output_type": "stream",
     "text": [
      "[[2 4]\n",
      " [6 8]]\n"
     ]
    }
   ],
   "source": [
    "\"\"\"\n",
    "Write a Python function that multiplies a matrix by a scalar and returns the result.\n",
    "\"\"\"\n",
    "\n",
    "def scalar_multiply(matrix: list[list[int|float]], scalar: int|float):\n",
    "\n",
    "    arr = np.array(matrix)\n",
    "\n",
    "    return arr*scalar\n",
    "\n",
    "print(scalar_multiply([[1, 2], [3, 4]], 2))"
   ]
  },
  {
   "cell_type": "code",
   "execution_count": 7,
   "metadata": {},
   "outputs": [
    {
     "name": "stdout",
     "output_type": "stream",
     "text": [
      "[np.float64(3.0), np.float64(1.0)]\n"
     ]
    }
   ],
   "source": [
    "\"\"\"\n",
    "Write a Python function that calculates the eigenvalues of a 2x2 matrix. The function should return a list containing the eigenvalues, sort values from highest to lowest.\n",
    "\"\"\"\n",
    "\n",
    "\n",
    "def calculate_eigenvalues(matrix: list[list[float|int]]):\n",
    "    arr = np.array(matrix)\n",
    "    eigenvalues, eigenvectors = np.linalg.eig(arr)\n",
    "    return sorted(eigenvalues, reverse=True)\n",
    "\n",
    "print(calculate_eigenvalues([[2, 1], [1, 2]]))\n"
   ]
  },
  {
   "cell_type": "code",
   "execution_count": 13,
   "metadata": {},
   "outputs": [
    {
     "name": "stdout",
     "output_type": "stream",
     "text": [
      "[[1. 2.]\n",
      " [3. 4.]]\n"
     ]
    }
   ],
   "source": [
    "\"\"\"\n",
    "Write a Python function that transforms a given matrix A using the operation T⁻¹AS, where T and S are invertible matrices. The function should first validate if the matrices T and S are invertible, and then perform the transformation. In cases where there is no solution return -1\n",
    "\"\"\"\n",
    "def transform_matrix(A: list[list[int|float]], T: list[list[int|float]], S: list[list[int|float]]):\n",
    "\n",
    "    arr1 = np.array(A)\n",
    "    arr2 = np.array(T)\n",
    "    arr3 = np.array(S)\n",
    "\n",
    "    try:\n",
    "        arr2_inv = np.linalg.inv(arr2)\n",
    "        arr3_inv = np.linalg.inv(arr3)\n",
    "        return arr2_inv @ arr1 @ arr3 # @ is the matrix multiplication operator in numpy\n",
    "    \n",
    "    except:\n",
    "        return -1\n",
    "\n",
    "print(transform_matrix([[1, 2], [3, 4]], [[1, 0], [0, 1]], [[1, 0], [0, 1]]))"
   ]
  },
  {
   "cell_type": "code",
   "execution_count": 17,
   "metadata": {},
   "outputs": [
    {
     "name": "stdout",
     "output_type": "stream",
     "text": [
      "[[0.5 0.5 0.5]\n",
      " [0.5 0.5 0.5]\n",
      " [0.5 0.5 0.5]]\n"
     ]
    }
   ],
   "source": [
    "\"\"\"\n",
    "Write a Python function to calculate the covariance matrix for a given set of vectors. The function should take a list of lists, where each inner list represents a feature with its observations, and return a covariance matrix as a list of lists. Additionally, provide test cases to verify the correctness of your implementation.\n",
    "\"\"\"\n",
    "def calculate_covariance_matrix(vectors: list[list[float]]):\n",
    "\n",
    "    arr = np.array(vectors)\n",
    "    return np.cov(arr)\n",
    "\n",
    "print(calculate_covariance_matrix([[1, 2], [3, 4], [5, 6]]))"
   ]
  },
  {
   "cell_type": "code",
   "execution_count": 25,
   "metadata": {},
   "outputs": [
    {
     "name": "stdout",
     "output_type": "stream",
     "text": [
      "[ 0.146   0.2032 -0.5175]\n"
     ]
    }
   ],
   "source": [
    "\"\"\"\n",
    "Write a Python function that uses the Jacobi method to solve a system of linear equations given by Ax = b. The function should iterate n times, rounding each intermediate solution to four decimal places, and return the approximate solution x.\n",
    "\"\"\"\n",
    "\n",
    "def solve_jacobi(A: np.ndarray, b: np.ndarray, n: int):\n",
    "\n",
    "    x = np.array([0,0,0])\n",
    "\n",
    "    D = np.diag(A) # this will just provide the diagonal elements\n",
    "    R = A - np.diag(D) # this will give the complete diagonal matrix in the correct shape\n",
    "\n",
    "    for i in range(n):\n",
    "        x = (b - np.dot(R, x))/D\n",
    "        x = np.round(x, 4)\n",
    "    \n",
    "    return x\n",
    "\n",
    "A = np.array([[5, -2, 3], [-3, 9, 1], [2, -1, -7]])\n",
    "b = np.array([-1, 2, 3])\n",
    "n = 2\n",
    "\n",
    "print(solve_jacobi(A, b, n))"
   ]
  },
  {
   "cell_type": "code",
   "execution_count": null,
   "metadata": {},
   "outputs": [],
   "source": [
    "\"\"\"\n",
    "Write a Python function that approximates the Singular Value Decomposition on a 2x2 matrix by using the jacobian method and without using numpy svd function. Return U, Σ, and V matrices.\n",
    "\"\"\"\n",
    "def svd_2x2(A: np.ndarray) -> tuple:\n",
    "    # Initialize U and V as identity matrices\n",
    "    U = np.eye(2)\n",
    "    V = np.eye(2)\n",
    "    \n",
    "    # Work with B = A initially\n",
    "    B = A.copy()\n",
    "    \n",
    "    # Compute C = B^T B\n",
    "    C = B.T @ B\n",
    "    \n",
    "    # Get off-diagonal elements\n",
    "    off_diag = C - np.diag(np.diag(C))\n",
    "    \n",
    "    # While significant off-diagonal elements exist\n",
    "    while np.max(np.abs(off_diag)) > 1e-10:\n",
    "        # Find largest off-diagonal element\n",
    "        print(\"this is the off_diag\", off_diag)\n",
    "        p, q = np.unravel_index(np.argmax(np.abs(off_diag)), off_diag.shape)\n",
    "        \n",
    "        # Compute rotation angle\n",
    "        # arctan2 is used here because:\n",
    "        # 1. It handles the full range of angles (-π to π) unlike regular arctan (-π/2 to π/2)\n",
    "        # 2. It correctly handles the signs of numerator and denominator to determine quadrant\n",
    "        # 3. For SVD, we need the angle that diagonalizes the matrix, which is given by:\n",
    "        #    θ = 1/2 * arctan2(2*c_pq, c_pp - c_qq) where c_ij are elements of C = A^T A\n",
    "        theta = 0.5 * np.arctan2(2 * C[p,q], C[p,p] - C[q,q])\n",
    "        \n",
    "        # Construct Givens rotation matrix\n",
    "        G = np.array([[np.cos(theta), -np.sin(theta)],\n",
    "                     [np.sin(theta), np.cos(theta)]])\n",
    "        \n",
    "        # Update matrices\n",
    "        B = B @ G.T\n",
    "        V = V @ G.T\n",
    "        \n",
    "        # Recompute C and off-diagonal elements\n",
    "        C = B.T @ B\n",
    "        off_diag = C - np.diag(np.diag(C))\n",
    "    \n",
    "    # Compute singular values\n",
    "    singular_values = np.sqrt(np.diag(C))\n",
    "    Sigma = np.diag(singular_values)\n",
    "    \n",
    "    # Compute U using B and Sigma\n",
    "    U = B @ np.linalg.inv(Sigma)\n",
    "    \n",
    "    return U, Sigma, V\n",
    "\n",
    "# Test the function\n",
    "A = np.array([[1, 2], \n",
    "              [3, 4]])\n",
    "U, Sigma, V = svd_2x2(A)\n",
    "\n",
    "print(\"Original matrix A:\")\n",
    "print(A)\n",
    "print(\"\\nU matrix:\")\n",
    "print(U)\n",
    "print(\"\\nSigma matrix:\")\n",
    "print(Sigma)\n",
    "print(\"\\nV matrix:\")\n",
    "print(V)\n",
    "print(\"\\nVerification - reconstructed A:\")\n",
    "print(U @ Sigma @ V.T)\n"
   ]
  },
  {
   "cell_type": "code",
   "execution_count": 49,
   "metadata": {},
   "outputs": [
    {
     "name": "stdout",
     "output_type": "stream",
     "text": [
      "0\n",
      "-160\n"
     ]
    }
   ],
   "source": [
    "\"\"\"\n",
    "Write a Python function that calculates the determinant of a 4x4 matrix using Laplace's Expansion method. The function should take a single argument, a 4x4 matrix represented as a list of lists, and return the determinant of the matrix. The elements of the matrix can be integers or floating-point numbers. Implement the function recursively to handle the computation of determinants for the 3x3 minor matrices.\n",
    "\"\"\"\n",
    "def determinant_4x4(matrix) -> float:\n",
    "    arr = np.array(matrix)\n",
    "    \n",
    "    # For Laplace expansion, we only need to iterate along one row/column\n",
    "    # Let's use first row (i=0)\n",
    "    det_arr = 0\n",
    "    for j in range(arr.shape[1]):\n",
    "        # Get minor matrix by removing first row and column j\n",
    "        minor = np.delete(np.delete(arr, 0, axis=0), j, axis=1)\n",
    "        # Calculate cofactor\n",
    "        cofactor = (-1)**(0+j) * calculate_3x3_determinant(minor)\n",
    "        # Add to determinant\n",
    "        det_arr += arr[0,j] * cofactor\n",
    "    \n",
    "    return int(det_arr)\n",
    "\n",
    "def calculate_3x3_determinant(arr):\n",
    "    arr = np.array(arr)\n",
    "    return np.linalg.det(arr)\n",
    "\n",
    "\n",
    "a = [[1,2,3,4],[5,6,7,8],[9,10,11,12],[13,14,15,16]]\n",
    "a = np.array(a)\n",
    "\n",
    "print(determinant_4x4(a))\n",
    "print(determinant_4x4([[4, 3, 2, 1], [3, 2, 1, 4], [2, 1, 4, 3], [1, 4, 3, 2]]))"
   ]
  },
  {
   "cell_type": "code",
   "execution_count": null,
   "metadata": {},
   "outputs": [],
   "source": []
  },
  {
   "cell_type": "code",
   "execution_count": null,
   "metadata": {},
   "outputs": [],
   "source": []
  }
 ],
 "metadata": {
  "kernelspec": {
   "display_name": "venv",
   "language": "python",
   "name": "python3"
  },
  "language_info": {
   "codemirror_mode": {
    "name": "ipython",
    "version": 3
   },
   "file_extension": ".py",
   "mimetype": "text/x-python",
   "name": "python",
   "nbconvert_exporter": "python",
   "pygments_lexer": "ipython3",
   "version": "3.13.2"
  }
 },
 "nbformat": 4,
 "nbformat_minor": 2
}
