{
 "cells": [
  {
   "cell_type": "code",
   "execution_count": 4,
   "metadata": {},
   "outputs": [],
   "source": [
    "import numpy as np"
   ]
  },
  {
   "cell_type": "code",
   "execution_count": 5,
   "metadata": {},
   "outputs": [
    {
     "name": "stdout",
     "output_type": "stream",
     "text": [
      "[17 39]\n"
     ]
    }
   ],
   "source": [
    "\"\"\"\n",
    "Write a Python function that computes the dot product of a matrix and a vector. The function should return a list representing the resulting vector if the operation is valid, or -1 if the matrix and vector dimensions are incompatible. A matrix (a list of lists) can be dotted with a vector (a list) only if the number of columns in the matrix equals the length of the vector. For example, an n x m matrix requires a vector of length m.\n",
    "\"\"\"\n",
    "\n",
    "def matrix_dot_vector(a: list[list[int|float]], b: list[int|float]) -> list[int|float]:\n",
    "\t# Return a list where each element is the dot product of a row of 'a' with 'b'.\n",
    "\t# If the number of columns in 'a' does not match the length of 'b', return -1.\n",
    "    arr1 = np.array(a)\n",
    "    arr2 = np.array(b)\n",
    "\n",
    "    if arr1.shape[1] != arr2.shape[0]:\n",
    "        return -1\n",
    "    \n",
    "    else: \n",
    "        return np.dot(arr1, arr2)\n",
    "\n",
    "\n",
    "print(matrix_dot_vector([[1, 2], [3, 4]], [5, 6]))"
   ]
  },
  {
   "cell_type": "code",
   "execution_count": 7,
   "metadata": {},
   "outputs": [
    {
     "name": "stdout",
     "output_type": "stream",
     "text": [
      "[[1 4]\n",
      " [2 5]\n",
      " [3 6]]\n"
     ]
    }
   ],
   "source": [
    "\"\"\"\n",
    "Write a Python function that transposes a matrix. The function should return a new matrix that is the transpose of the input matrix. For example, if the input matrix is:\n",
    "\n",
    "[\n",
    "[1, 2, 3],\n",
    "[4, 5, 6]\n",
    "]\n",
    "\n",
    "The function should return:\n",
    "\n",
    "[\n",
    "[1, 4],\n",
    "[2, 5],\n",
    "[3, 6]\n",
    "\"\"\"\n",
    "\n",
    "def transpose_matrix(a: list[list[int|float]]):\n",
    "\n",
    "    arr = np.array(a)\n",
    "    return np.transpose(arr)\n",
    "\n",
    "print(transpose_matrix([[1, 2, 3], [4, 5, 6]]))"
   ]
  },
  {
   "cell_type": "code",
   "execution_count": 10,
   "metadata": {},
   "outputs": [
    {
     "name": "stdout",
     "output_type": "stream",
     "text": [
      "[[1 2 3]\n",
      " [4 5 6]]\n"
     ]
    }
   ],
   "source": [
    "\"\"\"\n",
    "Write a Python function that reshapes a given matrix into a specified shape. if it cant be reshaped return back an empty list [ ]\n",
    "\"\"\"\n",
    "def reshape_matrix(a: list[list[int|float]], new_shape: tuple[int, int]):\n",
    "\n",
    "    arr = np.array(a)\n",
    "\n",
    "    try:\n",
    "        return np.reshape(arr, new_shape)\n",
    "    except:\n",
    "        return []\n",
    "    \n",
    "\n",
    "print(reshape_matrix([[1, 2, 3], [4, 5, 6]], (2, 3)))"
   ]
  },
  {
   "cell_type": "code",
   "execution_count": 18,
   "metadata": {},
   "outputs": [
    {
     "name": "stdout",
     "output_type": "stream",
     "text": [
      "[2. 5. 8.]\n"
     ]
    }
   ],
   "source": [
    "\"\"\"\n",
    "Write a Python function that calculates the mean of a matrix either by row or by column, based on a given mode. The function should take a matrix (list of lists) and a mode ('row' or 'column') as input and return a list of means according to the specified mode.\n",
    "\"\"\"\n",
    "\n",
    "def calculate_matrix_mean(matrix: list[list[float]], mode: str):\n",
    "\n",
    "    arr = np.array(matrix)\n",
    "\n",
    "    if mode == \"row\":\n",
    "        means = np.mean(arr, axis = 1)\n",
    "    \n",
    "    elif mode == \"column\":\n",
    "        means = np.mean(arr, axis = 0)\n",
    "    \n",
    "    return means\n",
    "\n",
    "print(calculate_matrix_mean([[1, 2, 3], [4, 5, 6], [7, 8, 9]], \"row\"))"
   ]
  },
  {
   "cell_type": "code",
   "execution_count": 22,
   "metadata": {},
   "outputs": [
    {
     "name": "stdout",
     "output_type": "stream",
     "text": [
      "[[2 4]\n",
      " [6 8]]\n"
     ]
    }
   ],
   "source": [
    "\"\"\"\n",
    "Write a Python function that multiplies a matrix by a scalar and returns the result.\n",
    "\"\"\"\n",
    "\n",
    "def scalar_multiply(matrix: list[list[int|float]], scalar: int|float):\n",
    "\n",
    "    arr = np.array(matrix)\n",
    "\n",
    "    return arr*scalar\n",
    "\n",
    "print(scalar_multiply([[1, 2], [3, 4]], 2))"
   ]
  },
  {
   "cell_type": "code",
   "execution_count": null,
   "metadata": {},
   "outputs": [],
   "source": []
  }
 ],
 "metadata": {
  "kernelspec": {
   "display_name": "venv",
   "language": "python",
   "name": "python3"
  },
  "language_info": {
   "codemirror_mode": {
    "name": "ipython",
    "version": 3
   },
   "file_extension": ".py",
   "mimetype": "text/x-python",
   "name": "python",
   "nbconvert_exporter": "python",
   "pygments_lexer": "ipython3",
   "version": "3.13.2"
  }
 },
 "nbformat": 4,
 "nbformat_minor": 2
}
