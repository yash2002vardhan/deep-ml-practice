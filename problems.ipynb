{
 "cells": [
  {
   "cell_type": "code",
   "execution_count": 2,
   "metadata": {},
   "outputs": [
    {
     "name": "stdout",
     "output_type": "stream",
     "text": [
      "[17 39]\n"
     ]
    }
   ],
   "source": [
    "\"\"\"\n",
    "Write a Python function that computes the dot product of a matrix and a vector. The function should return a list representing the resulting vector if the operation is valid, or -1 if the matrix and vector dimensions are incompatible. A matrix (a list of lists) can be dotted with a vector (a list) only if the number of columns in the matrix equals the length of the vector. For example, an n x m matrix requires a vector of length m.\n",
    "\"\"\"\n",
    "\n",
    "import numpy as np\n",
    "\n",
    "def matrix_dot_vector(a: list[list[int|float]], b: list[int|float]) -> list[int|float]:\n",
    "\t# Return a list where each element is the dot product of a row of 'a' with 'b'.\n",
    "\t# If the number of columns in 'a' does not match the length of 'b', return -1.\n",
    "    arr1 = np.array(a)\n",
    "    arr2 = np.array(b)\n",
    "\n",
    "    if arr1.shape[1] != arr2.shape[0]:\n",
    "        return -1\n",
    "    \n",
    "    else: \n",
    "        return np.dot(arr1, arr2)\n",
    "\n",
    "\n",
    "print(matrix_dot_vector([[1, 2], [3, 4]], [5, 6]))"
   ]
  },
  {
   "cell_type": "code",
   "execution_count": 3,
   "metadata": {},
   "outputs": [],
   "source": [
    "\"\"\"\n",
    "Write a Python function that transposes a matrix. The function should return a new matrix that is the transpose of the input matrix. For example, if the input matrix is:\n",
    "\n",
    "[\n",
    "[1, 2, 3],\n",
    "[4, 5, 6]\n",
    "]\n",
    "\n",
    "The function should return:\n",
    "\n",
    "[\n",
    "[1, 4],\n",
    "[2, 5],\n",
    "[3, 6]\n",
    "\"\"\"\n",
    "\n",
    "\n",
    "import numpy as np\n",
    "\n",
    "def transpose_matrix(a: list[list[int|float]]):\n",
    "\n",
    "    arr = np.array(a)\n",
    "    return np.transpose(arr)"
   ]
  },
  {
   "cell_type": "code",
   "execution_count": null,
   "metadata": {},
   "outputs": [],
   "source": []
  }
 ],
 "metadata": {
  "kernelspec": {
   "display_name": "venv",
   "language": "python",
   "name": "python3"
  },
  "language_info": {
   "codemirror_mode": {
    "name": "ipython",
    "version": 3
   },
   "file_extension": ".py",
   "mimetype": "text/x-python",
   "name": "python",
   "nbconvert_exporter": "python",
   "pygments_lexer": "ipython3",
   "version": "3.13.2"
  }
 },
 "nbformat": 4,
 "nbformat_minor": 2
}
